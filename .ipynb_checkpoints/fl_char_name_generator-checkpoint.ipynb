{
 "cells": [
  {
   "cell_type": "code",
   "execution_count": null,
   "id": "12eb99cb",
   "metadata": {},
   "outputs": [],
   "source": [
    "# Lists with name parts (based on GERMAN FL publications)\n",
    "human_male_p1 = [\"Bryn\", \"Har\", \"Oro\", \"Pa\", \"Ver\", \"Von\", \"Hol\", \"Al\", \"Al\", \"Zy\", \"Al\", \"Hin\", \"Na\", \"Har\", \"Ro\", \"Ga\", \"Oke\", \"Ar\",\n",
    "                 \"Ser\", \"Ver\", \"Ul\", \"El\", \"Ya\", \"Stur\", \"Per\", \"Ne\", \"Ol\", \"Vi\", \"Bei\", \"Ne\", \"Tol\", \"Es\", \"Dal\", \"Kor\", \"Fer\", \"Kal\", \"Mor\", \"Har\", \"Ha\"]\n",
    "human_male_p2 = [\"\", \"\", \"\", \"sin\", \"ge\", \"\", \"ga\", \"va\", \"go\", \"ga\", \"\", \"\", \"\", \"\", \"mar\", \"\", \"\",\n",
    "                 \"ge\", \"\", \"\", \"\", \"\", \"po\", \"\", \"\", \"\", \"\", \"do\", \"re\", \"\", \"ra\", \"\", \"\", \"\", \"\", \"\", \"\", \"\", \"\"]\n",
    "human_male_p3 = [\"de\", \"dar\", \"vald\", \"der\", \"vil\", \"mar\", \"mar\", \"gard\", \"fer\", \"rod\", \"rek\", \"trix\", \"wa\", \"bert\", \"gol\", \"ren\", \"told\",\n",
    "                 \"vil\", \"rand\", \"wim\", \"kas\", \"ko\", \"la\", \"ke\", \"dor\", \"me\", \"gar\", \"mar\", \"bald\", \"max\", \"ma\", \"r\", \"ss\", \"m\", \"b\", \"m\", \"m\", \"s\", \"b\"]\n",
    "\n",
    "human_fem_p1 = [\"Gar\", \"Ha\", \"Nir\", \"Sin\", \"Ta\", \"Tera\", \"Tve\", \"La\", \"Ca\", \"Eng\",\n",
    "                \"Lin\", \"Gin\", \"Ane\", \"O\", \"Al\", \"Poll\", \"Nir\", \"Ur\", \"Grem\", \"Dyn\", \"Lan\", \"Vi\"]\n",
    "human_fem_p2 = [\"mel\", \"lin\", \"me\", \"\", \"le\", \"mal\", \"\", \"vi\",\n",
    "                \"tya\", \"\", \"na\", \"\", \"\", \"\", \"\", \"\", \"su\", \"\", \"\", \"\", \"sa\", \"\"]\n",
    "human_fem_p3 = [\"da\", \"de\", \"na\", \"dia\", \"ne\", \"da\", \"dra\", \"de\", \"la\", \"sle\",\n",
    "                \"ya\", \"da\", \"ta\", \"ma\", \"morr\", \"vea\", \"la\", \"la\", \"dria\", \"ja\", \"ja\", \"na\"]"
   ]
  }
 ],
 "metadata": {
  "kernelspec": {
   "display_name": "Python 3",
   "language": "python",
   "name": "python3"
  },
  "language_info": {
   "codemirror_mode": {
    "name": "ipython",
    "version": 3
   },
   "file_extension": ".py",
   "mimetype": "text/x-python",
   "name": "python",
   "nbconvert_exporter": "python",
   "pygments_lexer": "ipython3",
   "version": "3.8.10"
  },
  "toc": {
   "base_numbering": 1,
   "nav_menu": {},
   "number_sections": false,
   "sideBar": true,
   "skip_h1_title": false,
   "title_cell": "Table of Contents",
   "title_sidebar": "Contents",
   "toc_cell": false,
   "toc_position": {},
   "toc_section_display": true,
   "toc_window_display": false
  },
  "varInspector": {
   "cols": {
    "lenName": 16,
    "lenType": 16,
    "lenVar": 40
   },
   "kernels_config": {
    "python": {
     "delete_cmd_postfix": "",
     "delete_cmd_prefix": "del ",
     "library": "var_list.py",
     "varRefreshCmd": "print(var_dic_list())"
    },
    "r": {
     "delete_cmd_postfix": ") ",
     "delete_cmd_prefix": "rm(",
     "library": "var_list.r",
     "varRefreshCmd": "cat(var_dic_list()) "
    }
   },
   "types_to_exclude": [
    "module",
    "function",
    "builtin_function_or_method",
    "instance",
    "_Feature"
   ],
   "window_display": false
  }
 },
 "nbformat": 4,
 "nbformat_minor": 5
}
